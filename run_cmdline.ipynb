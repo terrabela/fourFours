{
 "cells": [
  {
   "cell_type": "code",
   "execution_count": 5,
   "id": "8580648b-e16c-49ca-836d-eaa0ff0db446",
   "metadata": {},
   "outputs": [],
   "source": [
    "from rpn_class import make_a_values_dict"
   ]
  },
  {
   "cell_type": "code",
   "execution_count": 6,
   "id": "adfb1ef9-8e99-4914-80d3-a554a1ffd42c",
   "metadata": {
    "tags": []
   },
   "outputs": [],
   "source": [
    "\n",
    "str_4444 = '4444'\n",
    "str_44q = '44q'\n",
    "str_qq = 'qq'\n",
    "\n",
    "operas_5 = '+-*/^'\n"
   ]
  },
  {
   "cell_type": "code",
   "execution_count": 7,
   "id": "c6dfad68-4da6-44d9-9a75-bf5a376c82be",
   "metadata": {
    "tags": []
   },
   "outputs": [
    {
     "name": "stdout",
     "output_type": "stream",
     "text": [
      "========================\n",
      "fim\n",
      "tamanho all_lists_type_2n1: 176400\n",
      "Observar que é 35*7! = 176400\n",
      "ou é 15*5! = 1800\n",
      "tamanho type_n_valid: 25200\n",
      "========================\n",
      "fim\n",
      "tamanho all_lists_type_2n1: 1800\n",
      "Observar que é 35*7! = 176400\n",
      "ou é 15*5! = 1800\n",
      "tamanho type_n_valid: 360\n",
      "========================\n"
     ]
    },
    {
     "ename": "NameError",
     "evalue": "name 'sorting_dict' is not defined",
     "output_type": "error",
     "traceback": [
      "\u001b[0;31m---------------------------------------------------------------------------\u001b[0m",
      "\u001b[0;31mNameError\u001b[0m                                 Traceback (most recent call last)",
      "Cell \u001b[0;32mIn[7], line 8\u001b[0m\n\u001b[1;32m      6\u001b[0m dict_type_5 \u001b[38;5;241m=\u001b[39m make_a_values_dict(operas\u001b[38;5;241m=\u001b[39moperas_5, n_token_opers\u001b[38;5;241m=\u001b[39m\u001b[38;5;241m2\u001b[39m, str_numbers\u001b[38;5;241m=\u001b[39mstr_44q)\n\u001b[1;32m      7\u001b[0m \u001b[38;5;28mprint\u001b[39m(\u001b[38;5;124m'\u001b[39m\u001b[38;5;124m========================\u001b[39m\u001b[38;5;124m'\u001b[39m)\n\u001b[0;32m----> 8\u001b[0m \u001b[43msorting_dict\u001b[49m(dict_type_7, faixa)\n\u001b[1;32m      9\u001b[0m \u001b[38;5;28mprint\u001b[39m(\u001b[38;5;124m'\u001b[39m\u001b[38;5;124m========================\u001b[39m\u001b[38;5;124m'\u001b[39m)\n\u001b[1;32m     10\u001b[0m sorting_dict(dict_type_5, faixa)\n",
      "\u001b[0;31mNameError\u001b[0m: name 'sorting_dict' is not defined"
     ]
    }
   ],
   "source": [
    "faixa = [92,95]\n",
    "\n",
    "print('========================')\n",
    "dict_type_7 = make_a_values_dict(operas=operas_5, n_token_opers=3, str_numbers=str_4444)\n",
    "print('========================')\n",
    "dict_type_5 = make_a_values_dict(operas=operas_5, n_token_opers=2, str_numbers=str_44q)\n",
    "print('========================')\n",
    "sorting_dict(dict_type_7, faixa)\n",
    "print('========================')\n",
    "sorting_dict(dict_type_5, faixa)\n",
    "\n",
    "print('========================')\n",
    "dict_type_5_fa = make_a_values_dict(operas=operas_5, n_token_opers=2, str_numbers=str_44q,\n",
    "                                    with_fact=True)\n",
    "print('========================')\n",
    "sorting_dict(dict_type_5_fa, faixa)\n",
    "print('========================')\n",
    "dict_type_5_sqr = make_a_values_dict(operas=operas_5, n_token_opers=2, str_numbers=str_44q,\n",
    "                                     with_sqrt=True)\n",
    "print('========================')\n",
    "sorting_dict(dict_type_5_sqr, faixa)\n",
    "\n",
    "print('========================')\n",
    "dict_type_7_fa = make_a_values_dict(operas=operas_5, n_token_opers=3, str_numbers=str_4444,\n",
    "                                    with_fact=True)\n",
    "print('========================')\n",
    "sorting_dict(dict_type_7_fa, faixa)\n",
    "print('========================')\n",
    "dict_type_7_sqr = make_a_values_dict(operas=operas_5, n_token_opers=3, str_numbers=str_4444,\n",
    "                                     with_sqrt=True)\n",
    "print('========================')\n",
    "sorting_dict(dict_type_7_sqr, faixa)\n",
    "\n",
    "print('========== FIM ==================')\n"
   ]
  },
  {
   "cell_type": "code",
   "execution_count": null,
   "id": "4bb50827-6652-4221-ada0-d2e4c473cfab",
   "metadata": {},
   "outputs": [],
   "source": []
  }
 ],
 "metadata": {
  "kernelspec": {
   "display_name": "Python 3 (ipykernel)",
   "language": "python",
   "name": "python3"
  },
  "language_info": {
   "codemirror_mode": {
    "name": "ipython",
    "version": 3
   },
   "file_extension": ".py",
   "mimetype": "text/x-python",
   "name": "python",
   "nbconvert_exporter": "python",
   "pygments_lexer": "ipython3",
   "version": "3.10.11"
  }
 },
 "nbformat": 4,
 "nbformat_minor": 5
}
