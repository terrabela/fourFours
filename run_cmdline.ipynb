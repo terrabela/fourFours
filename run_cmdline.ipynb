{
 "cells": [
  {
   "cell_type": "code",
   "id": "8580648b-e16c-49ca-836d-eaa0ff0db446",
   "metadata": {
    "ExecuteTime": {
     "end_time": "2024-05-05T15:39:00.786937Z",
     "start_time": "2024-05-05T15:38:59.536239Z"
    }
   },
   "source": [
    "import numpy as np\n",
    "import pandas as pd\n",
    "from dash import Dash, dcc, html, dash_table, Input, Output, callback\n",
    "import plotly.express as px\n",
    "import plotly.graph_objects as go\n",
    "\n",
    "from rpn_class import evaluate_list, make_a_values_dict, sorting_dict"
   ],
   "outputs": [],
   "execution_count": 1
  },
  {
   "cell_type": "code",
   "id": "adfb1ef9-8e99-4914-80d3-a554a1ffd42c",
   "metadata": {
    "tags": [],
    "ExecuteTime": {
     "end_time": "2024-05-05T15:39:00.806085Z",
     "start_time": "2024-05-05T15:39:00.792787Z"
    }
   },
   "source": [
    "# Strings containing the operands used for each set of permutations, where each permutation\n",
    "# corresponds to an RPN expression with a valid result.\n",
    "# Char 4 means number 4 and char q means number 44. So...\n",
    "str_4444 = '4444' # four numbers 4\n",
    "str_44q = '44q'   # two numbers 4 and one number 44\n",
    "str_qq = 'qq'     # two numbers 44\n",
    "\n",
    "# String with the operators set, defined in the usual way.\n",
    "operas_5 = '+-*/^'\n",
    "\n",
    "# functions:\n",
    "# maka_a_values_dict(operas, n_token_opers, str_numbers, with_fact=False, with_sqrt=False)\n",
    "# sorting_dict(dict_n, print_range):\n"
   ],
   "outputs": [],
   "execution_count": 2
  },
  {
   "cell_type": "code",
   "id": "c6dfad68-4da6-44d9-9a75-bf5a376c82be",
   "metadata": {
    "tags": [],
    "ExecuteTime": {
     "end_time": "2024-05-05T15:39:01.814655Z",
     "start_time": "2024-05-05T15:39:00.808161Z"
    }
   },
   "source": [
    "faixa = [92,95]\n",
    "\n",
    "print('========================')\n",
    "dict_type_7 = make_a_values_dict(operas=operas_5, n_token_opers=3, str_numbers=str_4444)\n",
    "print('========================')\n",
    "dict_type_5 = make_a_values_dict(operas=operas_5, n_token_opers=2, str_numbers=str_44q)\n",
    "print('========================')\n",
    "sorting_dict(dict_type_7, faixa)\n",
    "print('========================')\n",
    "sorting_dict(dict_type_5, faixa)\n",
    "\n",
    "print('========================')\n",
    "dict_type_5_fa = make_a_values_dict(operas=operas_5, n_token_opers=2, str_numbers=str_44q,\n",
    "                                    with_fact=True)\n",
    "print('========================')\n",
    "sorting_dict(dict_type_5_fa, faixa)\n",
    "print('========================')\n",
    "dict_type_5_sqr = make_a_values_dict(operas=operas_5, n_token_opers=2, str_numbers=str_44q,\n",
    "                                     with_sqrt=True)\n",
    "print('========================')\n",
    "sorting_dict(dict_type_5_sqr, faixa)\n",
    "\n",
    "print('========================')\n",
    "dict_type_7_fa = make_a_values_dict(operas=operas_5, n_token_opers=3, str_numbers=str_4444,\n",
    "                                    with_fact=True)\n",
    "print('========================')\n",
    "sorting_dict(dict_type_7_fa, faixa)\n",
    "print('========================')\n",
    "dict_type_7_sqr = make_a_values_dict(operas=operas_5, n_token_opers=3, str_numbers=str_4444,\n",
    "                                     with_sqrt=True)\n",
    "print('========================')\n",
    "sorting_dict(dict_type_7_sqr, faixa)\n",
    "\n",
    "print('========== FIM ==================')\n"
   ],
   "outputs": [
    {
     "name": "stdout",
     "output_type": "stream",
     "text": [
      "========================\n",
      "fim\n",
      "tamanho all_lists_type_2n1: 176400\n",
      "Observar que é 35*7! = 176400\n",
      "ou é 15*5! = 1800\n",
      "tamanho type_n_valid: 25200\n"
     ]
    },
    {
     "ename": "OverflowError",
     "evalue": "(34, 'Numerical result out of range')",
     "output_type": "error",
     "traceback": [
      "\u001B[0;31m---------------------------------------------------------------------------\u001B[0m",
      "\u001B[0;31mOverflowError\u001B[0m                             Traceback (most recent call last)",
      "Cell \u001B[0;32mIn[3], line 4\u001B[0m\n\u001B[1;32m      1\u001B[0m faixa \u001B[38;5;241m=\u001B[39m [\u001B[38;5;241m92\u001B[39m,\u001B[38;5;241m95\u001B[39m]\n\u001B[1;32m      3\u001B[0m \u001B[38;5;28mprint\u001B[39m(\u001B[38;5;124m'\u001B[39m\u001B[38;5;124m========================\u001B[39m\u001B[38;5;124m'\u001B[39m)\n\u001B[0;32m----> 4\u001B[0m dict_type_7 \u001B[38;5;241m=\u001B[39m \u001B[43mmake_a_values_dict\u001B[49m\u001B[43m(\u001B[49m\u001B[43moperas\u001B[49m\u001B[38;5;241;43m=\u001B[39;49m\u001B[43moperas_5\u001B[49m\u001B[43m,\u001B[49m\u001B[43m \u001B[49m\u001B[43mn_token_opers\u001B[49m\u001B[38;5;241;43m=\u001B[39;49m\u001B[38;5;241;43m3\u001B[39;49m\u001B[43m,\u001B[49m\u001B[43m \u001B[49m\u001B[43mstr_numbers\u001B[49m\u001B[38;5;241;43m=\u001B[39;49m\u001B[43mstr_4444\u001B[49m\u001B[43m)\u001B[49m\n\u001B[1;32m      5\u001B[0m \u001B[38;5;28mprint\u001B[39m(\u001B[38;5;124m'\u001B[39m\u001B[38;5;124m========================\u001B[39m\u001B[38;5;124m'\u001B[39m)\n\u001B[1;32m      6\u001B[0m dict_type_5 \u001B[38;5;241m=\u001B[39m make_a_values_dict(operas\u001B[38;5;241m=\u001B[39moperas_5, n_token_opers\u001B[38;5;241m=\u001B[39m\u001B[38;5;241m2\u001B[39m, str_numbers\u001B[38;5;241m=\u001B[39mstr_44q)\n",
      "File \u001B[0;32m~/DataspellProjects/fourFours/rpn_class.py:159\u001B[0m, in \u001B[0;36mmake_a_values_dict\u001B[0;34m(operas, n_token_opers, str_numbers, with_fact, with_sqrt)\u001B[0m\n\u001B[1;32m    157\u001B[0m \u001B[38;5;66;03m# print(cont)\u001B[39;00m\n\u001B[1;32m    158\u001B[0m li_to_eval \u001B[38;5;241m=\u001B[39m decode_string(cand_key)\n\u001B[0;32m--> 159\u001B[0m value \u001B[38;5;241m=\u001B[39m \u001B[43mevaluate_list\u001B[49m\u001B[43m(\u001B[49m\u001B[43mli_to_eval\u001B[49m\u001B[43m)\u001B[49m\n\u001B[1;32m    160\u001B[0m \u001B[38;5;66;03m# print(f'{li_to_eval} = {value}')\u001B[39;00m\n\u001B[1;32m    161\u001B[0m dict_type_n[cand_key] \u001B[38;5;241m=\u001B[39m value\n",
      "File \u001B[0;32m~/DataspellProjects/fourFours/rpn_class.py:54\u001B[0m, in \u001B[0;36mevaluate_list\u001B[0;34m(expression)\u001B[0m\n\u001B[1;32m     52\u001B[0m \u001B[38;5;28;01mwith\u001B[39;00m warnings\u001B[38;5;241m.\u001B[39mcatch_warnings() \u001B[38;5;28;01mas\u001B[39;00m warning_list:\n\u001B[1;32m     53\u001B[0m     warnings\u001B[38;5;241m.\u001B[39msimplefilter(\u001B[38;5;124m\"\u001B[39m\u001B[38;5;124merror\u001B[39m\u001B[38;5;124m\"\u001B[39m, \u001B[38;5;167;01mRuntimeWarning\u001B[39;00m)\n\u001B[0;32m---> 54\u001B[0m     stack\u001B[38;5;241m.\u001B[39mappend(\u001B[43mleft\u001B[49m\u001B[43m \u001B[49m\u001B[38;5;241;43m*\u001B[39;49m\u001B[38;5;241;43m*\u001B[39;49m\u001B[43m \u001B[49m\u001B[43mright\u001B[49m)\n\u001B[1;32m     55\u001B[0m \u001B[38;5;28;01mif\u001B[39;00m warning_list:\n\u001B[1;32m     56\u001B[0m     \u001B[38;5;28;01mfor\u001B[39;00m warning \u001B[38;5;129;01min\u001B[39;00m warning_list:\n",
      "\u001B[0;31mOverflowError\u001B[0m: (34, 'Numerical result out of range')"
     ]
    }
   ],
   "execution_count": 3
  },
  {
   "metadata": {
    "ExecuteTime": {
     "end_time": "2024-05-05T15:42:43.231612Z",
     "start_time": "2024-05-05T15:42:43.224378Z"
    }
   },
   "cell_type": "code",
   "source": "evaluate_list('77777^555555!')",
   "id": "9e541bdc5e415d2f",
   "outputs": [
    {
     "data": {
      "text/plain": [
       "120.0"
      ]
     },
     "execution_count": 16,
     "metadata": {},
     "output_type": "execute_result"
    }
   ],
   "execution_count": 16
  },
  {
   "cell_type": "code",
   "id": "4bb50827-6652-4221-ada0-d2e4c473cfab",
   "metadata": {},
   "source": "dir()",
   "outputs": [],
   "execution_count": null
  },
  {
   "cell_type": "code",
   "source": [
    "print(dict_type_7_sqr)"
   ],
   "metadata": {
    "collapsed": false
   },
   "id": "2dc7059c1b510a3b",
   "outputs": [],
   "execution_count": null
  },
  {
   "cell_type": "code",
   "source": [
    "dict_type_7_sqr_df = pd.DataFrame.from_dict(\n",
    "    dict_type_7_sqr, orient='index', columns=['oper_result']\n",
    ")\n",
    "dict_type_7_sqr_df"
   ],
   "metadata": {
    "collapsed": false
   },
   "id": "c25d5d9b1e995d5c",
   "outputs": [],
   "execution_count": null
  },
  {
   "cell_type": "code",
   "source": [
    "dict_type_7_fac_df = pd.DataFrame.from_dict(\n",
    "    dict_type_7_fa, orient='index', columns=['oper_result']\n",
    ")\n",
    "dict_type_7_fac_df"
   ],
   "metadata": {
    "collapsed": false
   },
   "id": "9be40aa2f26b6a65",
   "outputs": [],
   "execution_count": null
  },
  {
   "cell_type": "code",
   "source": [],
   "metadata": {
    "collapsed": false
   },
   "id": "9f216326eb323963",
   "outputs": [],
   "execution_count": null
  },
  {
   "cell_type": "code",
   "source": [
    "def average_calc(vals1, vals2):\n",
    "    return np.sum(vals1), np.sum(vals2)"
   ],
   "metadata": {
    "collapsed": false
   },
   "id": "7b992349c13cbaca",
   "outputs": [],
   "execution_count": null
  },
  {
   "cell_type": "code",
   "source": [
    "average_calc([1,2,3],[7,8,9])"
   ],
   "metadata": {
    "collapsed": false
   },
   "id": "ca43c1eb981cd884",
   "outputs": [],
   "execution_count": null
  },
  {
   "cell_type": "code",
   "source": [
    "teste_df = pd.DataFrame(\n",
    "    {\n",
    "        'nucls': ['40K', '40K', '40K', '228Ra'],\n",
    "        'valors': [1.2, 3.7, 1.9, 2.3],\n",
    "        'varncs': [1.0, 1.3, 0.3, 0.6]\n",
    "    }\n",
    ")\n",
    "teste_df"
   ],
   "metadata": {
    "collapsed": false
   },
   "id": "ee0ddea13a48afcc",
   "outputs": [],
   "execution_count": null
  },
  {
   "cell_type": "code",
   "source": [
    "teste_df['one_s2'] = 1.0 / teste_df.varncs\n",
    "teste_df['x_s2'] = teste_df['valors'] * teste_df['one_s2']\n",
    "teste_df"
   ],
   "metadata": {
    "collapsed": false
   },
   "id": "af8d3c8fdcce2125",
   "outputs": [],
   "execution_count": null
  },
  {
   "cell_type": "code",
   "source": [
    "# retomando\n",
    "grpd = teste_df.groupby(\"nucls\")"
   ],
   "metadata": {
    "collapsed": false
   },
   "id": "78c08eee8230c19b",
   "outputs": [],
   "execution_count": null
  },
  {
   "cell_type": "code",
   "source": [],
   "metadata": {
    "collapsed": false
   },
   "id": "8d4f8124f4f46ef8",
   "outputs": [],
   "execution_count": null
  },
  {
   "cell_type": "code",
   "source": [
    "res_1 = pd.DataFrame(grpd[[\"one_s2\", \"x_s2\"]].agg(\"sum\"))\n",
    "res_1"
   ],
   "metadata": {
    "collapsed": false
   },
   "id": "aace35fb4d72c344",
   "outputs": [],
   "execution_count": null
  },
  {
   "cell_type": "code",
   "source": [
    "res_1[\"avrg_xm\"] = res_1.x_s2 / res_1.one_s2\n",
    "res_1[\"avrg_sd\"] = 1.0 / np.sqrt(res_1.one_s2)\n",
    "res_1"
   ],
   "metadata": {
    "collapsed": false
   },
   "id": "27c360cb76dc92ef",
   "outputs": [],
   "execution_count": null
  },
  {
   "cell_type": "markdown",
   "source": [],
   "metadata": {
    "collapsed": false
   },
   "id": "daae8c22d660c7a6"
  },
  {
   "cell_type": "code",
   "source": [
    "grpd[\"valors\"].agg([\"sum\", \"mean\", \"std\"])"
   ],
   "metadata": {
    "collapsed": false
   },
   "id": "2071d8c8a7a03282",
   "outputs": [],
   "execution_count": null
  },
  {
   "cell_type": "code",
   "source": [
    "grpd[[\"valors\", \"varncs\"]].agg([\"sum\", \"mean\", \"std\"])"
   ],
   "metadata": {
    "collapsed": false
   },
   "id": "166b189f7ad046a5",
   "outputs": [],
   "execution_count": null
  },
  {
   "cell_type": "code",
   "source": [],
   "metadata": {
    "collapsed": false
   },
   "id": "51dcddf1551c255c",
   "outputs": [],
   "execution_count": null
  },
  {
   "cell_type": "code",
   "source": [
    "np.divide(2, 3)"
   ],
   "metadata": {
    "collapsed": false
   },
   "id": "f82ece6be953cca1",
   "outputs": [],
   "execution_count": null
  },
  {
   "cell_type": "code",
   "source": [
    "np.float_power(5.7, 7.8)"
   ],
   "metadata": {
    "collapsed": false
   },
   "id": "fd042df16e37925a",
   "outputs": [],
   "execution_count": null
  },
  {
   "cell_type": "code",
   "source": [
    "grp_nuc = teste_df.groupby('nucls').sum()\n",
    "grp_nuc"
   ],
   "metadata": {
    "collapsed": false
   },
   "id": "13fab366bbffc0c8",
   "outputs": [],
   "execution_count": null
  },
  {
   "cell_type": "code",
   "source": [
    "grp_nuc = teste_df.groupby('nucls').valors.describe()\n",
    "grp_nuc"
   ],
   "metadata": {
    "collapsed": false
   },
   "id": "b3360dc26d6684fa",
   "outputs": [],
   "execution_count": null
  },
  {
   "cell_type": "code",
   "source": [
    "grp_nuc = teste_df.groupby('nucls').varncs.describe()\n",
    "grp_nuc"
   ],
   "metadata": {
    "collapsed": false
   },
   "id": "3629e1c08277671b",
   "outputs": [],
   "execution_count": null
  },
  {
   "cell_type": "code",
   "source": [
    "media = (1.2+3.7+1.9)/3\n",
    "media"
   ],
   "metadata": {
    "collapsed": false
   },
   "id": "1f5686ddcc217c6f",
   "outputs": [],
   "execution_count": null
  },
  {
   "cell_type": "code",
   "source": [
    "desvpad = np.sqrt(((1.2-media)**2+(3.7-media)**2+(1.9-media)**2)/2)\n",
    "desvpad"
   ],
   "metadata": {
    "collapsed": false
   },
   "id": "8c3de678d8a01271",
   "outputs": [],
   "execution_count": null
  },
  {
   "cell_type": "code",
   "source": [
    "df_fun = pd.DataFrame({'ID':['1', '2', '3'], 'col_1': [0, 2, 3],\n",
    "                   'col_1a': ['sdfg','oo','oioi'],\n",
    "                   'col_2':[1, 4, 5]})\n",
    "mylist = ['a', 'b', 'c', 'd', 'e', 'f']\n",
    "\n",
    "def get_sublist(sta,end):\n",
    "    return mylist[sta:end+1]\n",
    "\n",
    "df_fun['col_3'] = df_fun.apply(lambda x: get_sublist(x.col_1, x.col_2), axis=1)"
   ],
   "metadata": {
    "collapsed": false
   },
   "id": "6213564791e9b698",
   "outputs": [],
   "execution_count": null
  },
  {
   "cell_type": "code",
   "source": [
    "df_fun.dtypes"
   ],
   "metadata": {
    "collapsed": false
   },
   "id": "a64d37a9fe1a3f4b",
   "outputs": [],
   "execution_count": null
  },
  {
   "cell_type": "code",
   "source": [
    "df_fun"
   ],
   "metadata": {
    "collapsed": false
   },
   "id": "4e17bb12c77eb632",
   "outputs": [],
   "execution_count": null
  },
  {
   "cell_type": "code",
   "source": [
    "# Won't use:"
   ],
   "metadata": {
    "collapsed": false
   },
   "id": "afb21ecbadb3de3a",
   "outputs": [],
   "execution_count": null
  },
  {
   "cell_type": "code",
   "source": [
    "def soma(vl, vr):\n",
    "    return vl + vr"
   ],
   "metadata": {
    "collapsed": false
   },
   "id": "80e0446bf74fc3b2",
   "outputs": [],
   "execution_count": null
  },
  {
   "cell_type": "code",
   "source": [
    "soma(5.7, 7.8)"
   ],
   "metadata": {
    "collapsed": false
   },
   "id": "a5b05633c3a8cbd4",
   "outputs": [],
   "execution_count": null
  },
  {
   "cell_type": "code",
   "source": [
    "teste_df['kjhkjerr_rel'] = teste_df.apply(lambda x: soma(x.valors, x.varncs), axis=1)\n",
    "teste_df"
   ],
   "metadata": {
    "collapsed": false
   },
   "id": "8749ae09b77d0dcc",
   "outputs": [],
   "execution_count": null
  },
  {
   "cell_type": "code",
   "source": [],
   "metadata": {
    "collapsed": false
   },
   "id": "930fe9a3f0d08ba0",
   "outputs": [],
   "execution_count": null
  },
  {
   "cell_type": "code",
   "source": [],
   "metadata": {
    "collapsed": false
   },
   "id": "9a0e6c962cb55006",
   "outputs": [],
   "execution_count": null
  },
  {
   "cell_type": "code",
   "source": [
    "# 2024-Mar-25: https://plotly.com/python/graph-objects/\n",
    "\n",
    "dropdn_lbls = [{\"label\": html.Span(['Montreal'], style={'color': 'Gold', 'font-size': 20}),\n",
    "                \"value\": \"Montreal\",},\n",
    "               {\"label\": html.Span(['NYC'], style={'color': 'MediumTurquoise', 'font-size': 20}),\n",
    "                \"value\": \"NYC\",},\n",
    "               {\"label\": html.Span(['London'], style={'color': 'LightGreen', 'font-size': 20}),\n",
    "                \"value\": \"London\",},]\n",
    "\n",
    "app2 = Dash('teste2')\n",
    "\n",
    "app2.layout = html.Div([\n",
    "    html.Div(children='My First App with Data and a Graph'),\n",
    "    dcc.Dropdown(dropdn_lbls, value='Montreal'),\n",
    "    dash_table.DataTable(data=teste_df.to_dict('records'),\n",
    "                         columns= [{\"name\": i, \"id\": i} for i in teste_df.columns],\n",
    "                         page_size=10),\n",
    "    dcc.Graph(id='plot-with-smooth-slider'),\n",
    "    dcc.Slider(1, 13, step=None, value=7, id='k-smooth')\n",
    "])\n",
    "\n",
    "def make_px(df):\n",
    "    return px.scatter(df, x=\"valors\", y=\"kjhkjerr_rel\",\n",
    "                      size=\"varncs\", hover_name=\"nucls\",\n",
    "                      size_max=55)\n",
    "\n",
    "def make_go(df):\n",
    "    go_fig = go.Figure()\n",
    "    go_fig.add_trace(go.Scatter(x=df['valors'], y=df['kjhkjerr_rel']))\n",
    "    return go_fig  \n",
    "\n",
    "@callback(\n",
    "    Output('plot-with-smooth-slider', 'figure'),\n",
    "    Input('k-smooth', 'value'))\n",
    "def update_fig(selected_smooth):\n",
    "    teste_df['kjhkjerr_rel'] = selected_smooth * teste_df['varncs']\n",
    "    fig2 = make_go(teste_df)\n",
    "    fig2.update_layout(transition_duration=100)\n",
    "    return fig2\n",
    "\n",
    "# app2.run(debug=True)\n",
    "app2.run_server(debug=True, use_reloader=False)  # Turn off reloader if inside Jupyter"
   ],
   "metadata": {
    "collapsed": false
   },
   "id": "fdfe681392a5c488",
   "outputs": [],
   "execution_count": null
  },
  {
   "cell_type": "code",
   "source": [],
   "metadata": {
    "collapsed": false
   },
   "id": "fefad447cbecf6db",
   "outputs": [],
   "execution_count": null
  }
 ],
 "metadata": {
  "kernelspec": {
   "display_name": "Python 3 (ipykernel)",
   "language": "python",
   "name": "python3"
  },
  "language_info": {
   "codemirror_mode": {
    "name": "ipython",
    "version": 3
   },
   "file_extension": ".py",
   "mimetype": "text/x-python",
   "name": "python",
   "nbconvert_exporter": "python",
   "pygments_lexer": "ipython3",
   "version": "3.10.11"
  }
 },
 "nbformat": 4,
 "nbformat_minor": 5
}
